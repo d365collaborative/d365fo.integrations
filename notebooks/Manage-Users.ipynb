{
 "cells": [
  {
   "cell_type": "markdown",
   "metadata": {
    "dotnet_interactive": {
     "language": "pwsh"
    },
    "polyglot_notebook": {
     "kernelName": "pwsh"
    }
   },
   "source": [
    "# Manage users\n",
    "\n",
    "In this scenario, you are going to learn how d365fo.integrations can be leveraged to manage users in Dynamics 365 for Finance and Operations.\n",
    "The notebook will walk you through retrieving, creating, updating and deleting users.\n",
    "Along the way, you will learn concepts of OData entities and how to interact with them using d365fo.integrations.\n",
    "\n",
    "## Prerequisites\n",
    "\n",
    "This notebook assumes that d365fo.integrations is installed and you have a basic understanding of it, how to configure it for use and how to use `Get-Help` and `Get-Command` to discover available commands and their usage. If you are new to d365fo.integrations or want a refresher, please refer to the [Getting Started](./getting_started.ipynb) notebook.\n",
    "\n",
    "Use the following cell to create a temporary configuration. If you already have a configuration, you can skip this step."
   ]
  },
  {
   "cell_type": "code",
   "execution_count": null,
   "metadata": {
    "dotnet_interactive": {
     "language": "pwsh"
    },
    "polyglot_notebook": {
     "kernelName": "pwsh"
    }
   },
   "outputs": [],
   "source": [
    "$tenantId = Read-Host -Prompt \"Enter your tenant id\"\n",
    "$clientId = Read-Host -Prompt \"Enter your client id\"\n",
    "$clientSecret = Read-Host -Prompt \"Enter your client secret\"\n",
    "$name = Read-Host -Prompt \"Enter a name for the configuration\"\n",
    "$url = Read-Host -Prompt \"Enter the URL of the D365FO environment\"\n",
    "\n",
    "Add-D365ODataConfig -Tenant $tenantId -ClientId $clientId -ClientSecret $clientSecret -Name $name -Url $url -Temporary\n",
    "Set-D365ActiveODataConfig -Name $name -Temporary"
   ]
  },
  {
   "cell_type": "markdown",
   "metadata": {},
   "source": [
    "# The SystemUser entity\n",
    "\n",
    "For managing users, we will be using the `SystemUsers` OData entity. To make it easier to work with this entity and allow you to change it to another entity, the next cell stores the entity name in a variable."
   ]
  },
  {
   "cell_type": "code",
   "execution_count": 31,
   "metadata": {
    "dotnet_interactive": {
     "language": "pwsh"
    },
    "polyglot_notebook": {
     "kernelName": "pwsh"
    }
   },
   "outputs": [],
   "source": [
    "$entityName = \"SystemUsers\""
   ]
  },
  {
   "cell_type": "markdown",
   "metadata": {},
   "source": [
    "## Plural or singular name\n",
    "\n",
    "Note that the actual entity name is `SystemUser` (singular) and not `SystemUsers` (plural). OData has a concept **EntitySetName** which is the name of the entity set exposed by the OData service. The entity set name is usually the plural form of the entity name. In this case, the entity set name is `SystemUsers`. In most situations, OData will want you to use the entity set name instead of the entity name. \n",
    "\n",
    "In practice it can get confusing when to use the singular and when to use the plural name. Some cmdlets of d365fo.integrations help you by accepting both the singular and plural form of the entity name. It will then determine the right form to use behind the scenes when making the request to the OData service.\n",
    "\n",
    "## Entity metadata\n",
    "\n",
    "Another important concept to know when working with OData entities is the entity metadata. The metadata contains information about the entity, its properties, navigation properties, and other information. \n",
    "\n",
    "To retrieve the metadata for an entity, you can use the `Get-D365ODataPublicEntity` cmdlet. You can run the cmdlet without any parameters, which will retrieve the metadata for all entities. It is not advisable to do that, since there are thousands of entities. Instead, use the `-EntityName`, `-EntityNameContains`, or `-ODataQuery` parameters to retrieve the entities you are interested in. For the purpose of this notebook, we will use the `-EntityName` parameter to retrieve the metadata for the `SystemUser` entity.\n",
    "\n",
    "Note that in the following cell, the result of the `Get-D365ODataPublicEntity` cmdlet is stored in the `$entityMetadata` variable. This is because the cmdlet returns the metadata as a custom object, which can be used to explore the metadata further. The next line is just the variable, which will display the metadata stored in it."
   ]
  },
  {
   "cell_type": "code",
   "execution_count": 32,
   "metadata": {
    "dotnet_interactive": {
     "language": "pwsh"
    },
    "polyglot_notebook": {
     "kernelName": "pwsh"
    }
   },
   "outputs": [
    {
     "name": "stdout",
     "output_type": "stream",
     "text": [
      "\n",
      "\u001b[32;1mName                 : \u001b[0mSystemUser\n",
      "\u001b[32;1mEntitySetName        : \u001b[0mSystemUsers\n",
      "\u001b[32;1mLabelId              : \u001b[0m@SYS12108\n",
      "\u001b[32;1mIsReadOnly           : \u001b[0mFalse\n",
      "\u001b[32;1mConfigurationEnabled : \u001b[0mTrue\n",
      "\u001b[32;1mProperties           : \u001b[0m{@{Name=UserID; TypeName=Edm.String; DataType=String; \n",
      "                       LabelId=@Kernel:UserInfo_ID; IsKey=True; IsMandatory=True; \n",
      "                       ConfigurationEnabled=True; AllowEdit=False; AllowEditOnCreate=True; \n",
      "                       IsDimension=False; DimensionRelation=; IsDynamicDimension=False; \n",
      "                       DimensionLegalEntityProperty=; DimensionTypeProperty=}, \n",
      "                       @{Name=WorkflowLineItemNotificationFormat; TypeName=Microsoft.Dynamics.DataE\n",
      "                       ntities.WorkflowLineItemNotificationFormat; DataType=Enum; \n",
      "                       LabelId=@SYS332736; IsKey=False; IsMandatory=False; \n",
      "                       ConfigurationEnabled=True; AllowEdit=True; AllowEditOnCreate=True; \n",
      "                       IsDimension=False; DimensionRelation=; IsDynamicDimension=False; \n",
      "                       DimensionLegalEntityProperty=; DimensionTypeProperty=}, \n",
      "                       @{Name=DocumentHandlingActive; \n",
      "                       TypeName=Microsoft.Dynamics.DataEntities.NoYes; DataType=Enum; \n",
      "                       LabelId=@SYS60460; IsKey=False; IsMandatory=False; \n",
      "                       ConfigurationEnabled=True; AllowEdit=True; AllowEditOnCreate=True; \n",
      "                       IsDimension=False; DimensionRelation=; IsDynamicDimension=False; \n",
      "                       DimensionLegalEntityProperty=; DimensionTypeProperty=}, \n",
      "                       @{Name=UserInfo_defaultPartition; TypeName=Edm.Boolean; DataType=Enum; \n",
      "                       LabelId=; IsKey=False; IsMandatory=False; ConfigurationEnabled=True; \n",
      "                       AllowEdit=True; AllowEditOnCreate=True; IsDimension=False; \n",
      "                       DimensionRelation=; IsDynamicDimension=False; \n",
      "                       DimensionLegalEntityProperty=; DimensionTypeProperty=}…}\n",
      "\u001b[32;1mNavigationProperties : \u001b[0m{@{Name=DefaultBudgetManager; RelatedEntity=BudgetControlConfiguration; \n",
      "                       RelatedRelationName=BudgetControlConfigurationDefaultBudgetManager; \n",
      "                       Cardinality=Multiple; Constraints=System.Object[]}, \n",
      "                       @{Name=BudgetControlRuleBudgetManager; RelatedEntity=BudgetControlRule; \n",
      "                       RelatedRelationName=BudgetManagers; Cardinality=Multiple; \n",
      "                       Constraints=System.Object[]}, @{Name=UserGroupUserList; \n",
      "                       RelatedEntity=UserGroupUserList; RelatedRelationName=SystemUser; \n",
      "                       Cardinality=Multiple; Constraints=System.Object[]}, \n",
      "                       @{Name=BudgetControlGroupBudgetManager; RelatedEntity=BudgetControlGroup; \n",
      "                       RelatedRelationName=BudgetManagers; Cardinality=Multiple; \n",
      "                       Constraints=System.Object[]}…}\n",
      "\u001b[32;1mPropertyGroups       : \u001b[0m{}\n",
      "\u001b[32;1mActions              : \u001b[0m{}\n",
      "\n"
     ]
    }
   ],
   "source": [
    "$entityMetadata = Get-D365ODataPublicEntity -EntityName $entityName\n",
    "$entityMetadata"
   ]
  },
  {
   "cell_type": "markdown",
   "metadata": {},
   "source": [
    "## Exploring the metadata\n",
    "\n",
    "If the display of the metadata feels a bit overwhelming, don't worry. Other notebooks will explore the metadata in more detail. For now, we are interested in the `Properties` item of the metadata, which is a list of the fields of the entity. To view it in a more readable manner, run the next cell."
   ]
  },
  {
   "cell_type": "code",
   "execution_count": 33,
   "metadata": {
    "dotnet_interactive": {
     "language": "pwsh"
    },
    "polyglot_notebook": {
     "kernelName": "pwsh"
    }
   },
   "outputs": [
    {
     "name": "stdout",
     "output_type": "stream",
     "text": [
      "\n",
      "\u001b[32;1mName                                            \u001b[0m\u001b[32;1m DataType\u001b[0m\u001b[32;1m IsKey\u001b[0m\u001b[32;1m IsMandatory\u001b[0m\n",
      "\u001b[32;1m----                                            \u001b[0m \u001b[32;1m--------\u001b[0m \u001b[32;1m-----\u001b[0m \u001b[32;1m-----------\u001b[0m\n",
      "UserID                                           String    True        True\n",
      "UserName                                         String   False        True\n",
      "UserInfo_language                                String   False        True\n",
      "NetworkDomain                                    String   False        True\n",
      "Helplanguage                                     String   False        True\n",
      "WorkflowLineItemNotificationFormat               Enum     False       False\n",
      "UserInfo_defaultPartition                        Enum     False       False\n",
      "Theme                                            Enum     False       False\n",
      "StartPage                                        String   False       False\n",
      "SqmGUID                                          Guid     False       False\n",
      "SqmEnabled                                       Enum     False       False\n",
      "ShowNotificationsInTheMicrosoftDynamicsAX7Client Enum     False       False\n",
      "ShowAttachmentStatus                             Enum     False       False\n",
      "SendNotificationsInEmail                         Enum     False       False\n",
      "SendAlertAsEmailMessage                          Enum     False       False\n",
      "PreferredTimeZone                                Enum     False       False\n",
      "PreferredLocale                                  String   False       False\n",
      "PreferredCalendar                                Enum     False       False\n",
      "PersonName                                       String   False       False\n",
      "MarkEmptyLinks                                   Enum     False       False\n",
      "Language                                         String   False       False\n",
      "HomePageRefreshDuration                          Int32    False       False\n",
      "GlobalListPageLinkMode                           Int32    False       False\n",
      "GlobalExcelExportMode                            Int32    False       False\n",
      "GlobalExcelExportFilePath                        String   False       False\n",
      "ExternalUser                                     Enum     False       False\n",
      "EventWorkflowTasksInActionCenter                 Enum     False       False\n",
      "EventWorkflowShowPopup                           Enum     False       False\n",
      "EventPopUps                                      Enum     False       False\n",
      "EventPopUpLinkDestination                        Enum     False       False\n",
      "EventPopUpDisplayWhen                            Enum     False       False\n",
      "EventPollFrequency                               Int32    False       False\n",
      "Enabled                                          Enum     False       False\n",
      "EmailProviderID                                  String   False       False\n",
      "Email                                            String   False       False\n",
      "DocumentHandlingActive                           Enum     False       False\n",
      "Density                                          Enum     False       False\n",
      "DefaultCountryRegion                             String   False       False\n",
      "Company                                          String   False       False\n",
      "AutomaticUrlUpdate                               Enum     False       False\n",
      "AutoLogOff                                       Int32    False       False\n",
      "Alias                                            String   False       False\n",
      "AccountType                                      Enum     False       False\n",
      "\n"
     ]
    }
   ],
   "source": [
    "$entityMetadata.Properties | \n",
    "  Select-Object Name, DataType, IsKey, IsMandatory | \n",
    "  Sort-Object IsMandatory, IsKey, Name -Descending | \n",
    "  Format-Table -AutoSize"
   ]
  },
  {
   "cell_type": "markdown",
   "metadata": {},
   "source": [
    "If the PowerShell code is not clear to you, here is a quick breakdown:\n",
    "- The `$entityMetadata.Properties` part retrieves the `Properties` item from the metadata.\n",
    "- The `Properties` item is a list of fields of the entity where each field has its own metadata.\n",
    "- The `Select-Object` cmdlet is used to select the `Name`, `DataType`, `IsKey`, and `IsMandatory` items from the field metadata.\n",
    "- The `Sort-Object` cmdlet is used to sort the fields by the `IsMandatory`, `IsKey`, and `Name` metadata.\n",
    "- The `Format-Table` cmdlet is used to display the fields in a table format.\n",
    "\n",
    "> ℹ️ **Note** It is beyond the scope of this notebook to explain all those cmdlets and how they are connected in more detail. This is part of the base functionality of PowerShell and not specific to d365fo.integrations. If you want to learn more about PowerShell in general, there are many resources available online. One good starting point is [PowerShell 101](https://learn.microsoft.com/en-us/powershell/scripting/learn/ps101/00-introduction).\n",
    "\n",
    "This gives us a nice overview of the fields of the `SystemUser` entity. At the top are the fields that are mandatory when creating a new user. The `UserID` field where the `IsKey` metadata item is `True` will become important when updating or deleting a user.\n",
    "\n",
    "# Retrieve users\n",
    "\n",
    "That's enough theory for now. Let's start by retrieving all users in Dynamics 365 for Finance and Operations. To do this, we will use the `Get-D365ODataEntityData` cmdlet. The cmdlet requires the `-EntityName` parameter, which we will set to `SystemUsers`. This is not quite correct (remember the paragraph about singular and plural names), but the cmdlet will handle this for us. If you want to be more explicit, you can use the `-EntitySetName` parameter and set it to `SystemUsers`.\n",
    "\n",
    "We also use the `-Top 5` parameter to limit the number of users retrieved. While you are testing, it is a good idea to limit the number of records retrieved to avoid long wait times and to not overload the system.\n",
    "\n",
    "Again, we use the `Select-Object` cmdlet to select the `UserID`, `UserName`, and `Enabled` fields which we are interested in. Try changing the fields if you are interested in other fields."
   ]
  },
  {
   "cell_type": "code",
   "execution_count": 34,
   "metadata": {
    "dotnet_interactive": {
     "language": "pwsh"
    },
    "polyglot_notebook": {
     "kernelName": "pwsh"
    }
   },
   "outputs": [
    {
     "name": "stdout",
     "output_type": "stream",
     "text": [
      "\n",
      "\u001b[32;1mUserID              \u001b[0m\u001b[32;1m UserName            \u001b[0m\u001b[32;1m Enabled\u001b[0m\n",
      "\u001b[32;1m------              \u001b[0m \u001b[32;1m--------            \u001b[0m \u001b[32;1m-------\u001b[0m\n",
      "Admin                Admin                   True\n",
      "FRServiceUser        FRServiceUser           True\n",
      "SysHealthServiceUser SysHealthServiceUser    True\n",
      "ScaleUnitManagement  ScaleUnitManagement     True\n",
      "PowerPlatformApp     PowerPlatformApp        True\n",
      "\n"
     ]
    }
   ],
   "source": [
    "Get-D365ODataEntityData -EntityName $entityName -Top 5 |\n",
    "  Select-Object UserID, UserName, Enabled |\n",
    "  Format-Table -AutoSize"
   ]
  },
  {
   "cell_type": "markdown",
   "metadata": {},
   "source": [
    "> ⚠️ **Warning**: Microsoft users\n",
    ">\n",
    "> You may notice some users with ids and names that are unfamiliar to you (for example a *SysHealthServiceUser*). These are system users added by Microsoft and are used for various purposes. You will not see them in the user interface of Dynamics 365 for Finance and Operations, as they are filtered by the `isMicrosoftAccount` field. Unfortunately, this filter is not applied when retrieving users via OData. There is also no field in the entity that can be used to filter out these users. So be aware of this when making changes to users. These Microsoft users should not be changed.\n",
    "\n",
    "# Updating users\n",
    "\n",
    "To update a user, we need to get familiar with the `Update-D365ODataEntity` cmdlet. This, like previous cmdlets, has a `-EntityName` parameter which we will set to `SystemUsers`. \n",
    "\n",
    "## Entity key\n",
    "\n",
    "Now updates require a single record to be updated. To ensure this, OData requires that the values of the key fields of an entity are provided. Remember the `IsKey` metadata? Only the `UserID` field has that metadata set to `True`. \n",
    "\n",
    "Another way to find out the key fields of an entity is to use the `Get-D365ODataEntityKey` cmdlet. The following cell shows how to use it."
   ]
  },
  {
   "cell_type": "code",
   "execution_count": 35,
   "metadata": {
    "dotnet_interactive": {
     "language": "pwsh"
    },
    "polyglot_notebook": {
     "kernelName": "pwsh"
    }
   },
   "outputs": [
    {
     "name": "stdout",
     "output_type": "stream",
     "text": [
      "\n",
      "\u001b[32;1mName       \u001b[0m\u001b[32;1m Keys\u001b[0m\n",
      "\u001b[32;1m----       \u001b[0m \u001b[32;1m----\u001b[0m\n",
      "SystemUsers @{FieldName=UserID; DataType=String}\n",
      "\n"
     ]
    }
   ],
   "source": [
    "$entityKey = Get-D365OdataEntityKey -Name $entityName -Properties $entityMetadata.Properties\n",
    "$entityKey"
   ]
  },
  {
   "cell_type": "markdown",
   "metadata": {},
   "source": [
    "Another easier option is to \"pipe\" the full metadata object to the `Get-D365ODataEntityKey` cmdlet and let it sort out itself what it needs from it to determine the key. This is shown in the next cell. \n",
    "\n",
    "> ℹ️ **Note** \"Piping\" is another concept of PowerShell where the output of one cmdlet is passed as input to another cmdlet. It is done by using the `|` character."
   ]
  },
  {
   "cell_type": "code",
   "execution_count": 36,
   "metadata": {
    "dotnet_interactive": {
     "language": "pwsh"
    },
    "polyglot_notebook": {
     "kernelName": "pwsh"
    }
   },
   "outputs": [
    {
     "name": "stdout",
     "output_type": "stream",
     "text": [
      "\n",
      "\u001b[32;1mName      \u001b[0m\u001b[32;1m Keys\u001b[0m\n",
      "\u001b[32;1m----      \u001b[0m \u001b[32;1m----\u001b[0m\n",
      "SystemUser @{FieldName=UserID; DataType=String}\n",
      "\n"
     ]
    }
   ],
   "source": [
    "$entityKey = $entityMetadata | Get-D365OdataEntityKey\n",
    "$entityKey"
   ]
  },
  {
   "cell_type": "markdown",
   "metadata": {},
   "source": [
    "Now that we know the key field of the entity, we need the value for it. In this case, the value is a user id. Run the next cell to provide a user id of your choice, which will be stored in the `$userId` variable."
   ]
  },
  {
   "cell_type": "code",
   "execution_count": null,
   "metadata": {
    "dotnet_interactive": {
     "language": "pwsh"
    },
    "polyglot_notebook": {
     "kernelName": "pwsh"
    }
   },
   "outputs": [],
   "source": [
    "$userId = Read-Host -Prompt \"Enter the user id\""
   ]
  },
  {
   "cell_type": "markdown",
   "metadata": {},
   "source": [
    "With the user id value, we can now set the `-Key` parameter of the `Update-D365ODataEntity` cmdlet. It expects a string in the format `KeyField1='Value1',KeyField2='Value2',...`. In our case, it will be `-Key \"UserID='$userId'\"`."
   ]
  },
  {
   "cell_type": "markdown",
   "metadata": {},
   "source": [
    "\n",
    "## Payload\n",
    "\n",
    "Now that we know the key of the entity, the only thing missing is the payload. It determines which fields will be updated and their new values. The payload is provided in the [JSON](https://www.json.org/) (JavaScript Object Notation) format. The JSON format is a lightweight data interchange format that is easy for humans to read and write and easy for machines to parse and generate.\n",
    "\n",
    "In this case, we will update the `Enabled` field of the user. The `Enabled` field is a boolean field, which means it can have two values: `True` or `False`. We will set it to `False`. The JSON format for this is `{\"Enabled\": \"False\"}`. Let's store that in a variable using the next cell."
   ]
  },
  {
   "cell_type": "code",
   "execution_count": 37,
   "metadata": {
    "dotnet_interactive": {
     "language": "pwsh"
    },
    "polyglot_notebook": {
     "kernelName": "pwsh"
    }
   },
   "outputs": [],
   "source": [
    "$payloadJSON = '{\"Enabled\": \"False\"}'"
   ]
  },
  {
   "cell_type": "markdown",
   "metadata": {},
   "source": [
    "## Disable a user\n",
    "\n",
    "And now we have everything we need to update a user to disable it. The next cell will first display all the values of the variables we will be using:\n",
    "- `$entityName` - the entity name\n",
    "- `$userId` - the user id\n",
    "- `$payloadJSON` - the payload in JSON format\n",
    "\n",
    "It will then call the `Update-D365ODataEntity` cmdlet to update the user. If everything goes well, the cmdlet will disable the user."
   ]
  },
  {
   "cell_type": "code",
   "execution_count": null,
   "metadata": {
    "dotnet_interactive": {
     "language": "pwsh"
    },
    "polyglot_notebook": {
     "kernelName": "pwsh"
    }
   },
   "outputs": [],
   "source": [
    "$entityName\n",
    "$userId\n",
    "$payloadJSON\n",
    "\n",
    "Update-D365ODataEntity -EntityName $entityName -Key \"UserID='$userId'\" -Payload $payloadJSON"
   ]
  },
  {
   "cell_type": "markdown",
   "metadata": {},
   "source": [
    "Now try changing the `$payloadJSON` variable in the cell of the [Payload](#payload) section so that when the previous cell is executed once more, the user will be enabled again.\n",
    "\n",
    "If you want to update more than one field, the payload can get more complex. We will see in the next part on user creation how such payloads can be created.\n",
    "\n",
    "# Creating users\n",
    "\n",
    "Creating data (in this case users) is usually more complex than updating it, since it requires to provide values for all mandatory fields and usually also additional fields. Which fields exactly need to be provided and what their values should be is specific to each entity and the domain and business logic behind it. The metadata of an entity is often not enough to determine this, as you will see in this case. So be prepared to spend some time on figuring out how to create data in other entities.\n",
    "\n",
    "To do the data creation, we will use the `Import-D365ODataEntity` cmdlet, which, like the `Update-D365ODataEntity` cmdlet, requires a payload in the JSON format.\n",
    "\n",
    "## Prepare the payload\n",
    "\n",
    "From the [Exploring the metadata](#exploring-the-metadata) section, we know the five mandatory fields of the entity:\n",
    "- `UserID`: the unique identifier of the new user\n",
    "- `UserName`: the new user's name\n",
    "- `UserInfo_language`: the language the user will see the application in\n",
    "- `NetworkDomain`: a url that will be used in the authentification of the user\n",
    "- `Helplanguage`: the alternate help language\n",
    "\n",
    "### NetworkDomain\n",
    "\n",
    "Most of the mandatory fields should be easy to fill out, but the `NetworkDomain` field might be a bit tricky. In the user interface, it appears with the name \"Provider\" and usually contains the URL \"https://sts.windows.net/\". This URL is used for the authentication of the user. For users in your tenant, you can use the same URL. For other users, their tenant might need to be added to the URL or a different URL might be needed. This is out of the scope of this notebook, but be aware of this when creating users.\n",
    "\n",
    "With that information, let's create the payload for a new user. The next cell will set and query you for the values of the mandatory fields and store them in variables."
   ]
  },
  {
   "cell_type": "code",
   "execution_count": 4,
   "metadata": {
    "dotnet_interactive": {
     "language": "pwsh"
    },
    "polyglot_notebook": {
     "kernelName": "pwsh"
    }
   },
   "outputs": [],
   "source": [
    "$userId = Read-Host -Prompt \"Enter the user id\"\n",
    "$userName = Read-Host -Prompt \"Enter the user name\"\n",
    "$userLanguage = \"en-us\" # Change this to the language of your users or replace it with a Read-Host to provide a value of your choice\n",
    "$networkDomain = \"https://sts.windows.net/\" # Change this according to your needs"
   ]
  },
  {
   "cell_type": "markdown",
   "metadata": {},
   "source": [
    "Then let's create the payload. Since there are multiple fields, we will first declare a PowerShell object with the names and values of the fields. We can then use the PowerShell `ConvertTo-Json` cmdlet to convert the object to a JSON string. This is easier than declaring the JSON string directly.\n",
    "\n",
    "Also note we are using the `$userLanguage` for both the `UserInfo_language` and `Helplanguage` fields. These fields expect a value as in the \"Language/locale\" column of [Language and locale descriptors in Help](https://learn.microsoft.com/en-us/dynamics365/fin-ops-core/dev-itpro/help/language-locale)."
   ]
  },
  {
   "cell_type": "code",
   "execution_count": null,
   "metadata": {
    "dotnet_interactive": {
     "language": "pwsh"
    },
    "polyglot_notebook": {
     "kernelName": "pwsh"
    }
   },
   "outputs": [],
   "source": [
    "$payloadObject = @{\n",
    "  UserID = $userId\n",
    "  UserName = $userName\n",
    "  UserInfo_language = $userLanguage\n",
    "  NetworkDomain = $networkDomain\n",
    "  Helplanguage = $userLanguage\n",
    "}\n",
    "\n",
    "$payloadJSON = $payloadObject | ConvertTo-Json\n",
    "$payloadJSON"
   ]
  },
  {
   "cell_type": "markdown",
   "metadata": {},
   "source": [
    "Do you think that payload is sufficient to create a user? Let's find out."
   ]
  },
  {
   "cell_type": "code",
   "execution_count": 6,
   "metadata": {
    "dotnet_interactive": {
     "language": "pwsh"
    },
    "polyglot_notebook": {
     "kernelName": "pwsh"
    }
   },
   "outputs": [
    {
     "data": {
      "text/plain": []
     },
     "metadata": {},
     "output_type": "display_data"
    },
    {
     "name": "stdout",
     "output_type": "stream",
     "text": [
      "[\u001b[37m13:40:52\u001b[0m][\u001b[37mImport-D365ODataEntity\u001b[0m\u001b[96m] Something went wrong while importing data through the OData endpoint for the entity: SystemUsers | Response status code does not indicate success: 400 (Bad Request).\u001b[0m\n",
      "WARNING: [13:40:52][Import-D365ODataEntity] Stopping because of errors. | Something went wrong while importing data through the OData endpoint for the entity: SystemUsers\n"
     ]
    },
    {
     "ename": "Error",
     "evalue": "Command failed: SubmitCode: $createdEntity = Import-D365ODataEntity -EntityNam ...",
     "output_type": "error",
     "traceback": [
      "Command failed: SubmitCode: $createdEntity = Import-D365ODataEntity -EntityNam ..."
     ]
    }
   ],
   "source": [
    "$createdEntity = Import-D365ODataEntity -EntityName $entityName -Payload $payloadJSON"
   ]
  },
  {
   "cell_type": "markdown",
   "metadata": {},
   "source": [
    "## Analyze errors\n",
    "\n",
    "If you followed the notebook so far, you will get an error when trying to create a user with that payload. The error message will be something like \n",
    "\n",
    ">Something went wrong while importing data through the OData endpoint for the entity: SystemUsers | Response status code does not indicate success: 400 (Bad Request).\n",
    "\n",
    "This is not very helpful, but it is a common error message when the payload is not correct. So how can you go about figuring out what is wrong with the payload?\n",
    "\n",
    "To do that, we will use a couple of PowerShell features. The first is one of the [common parameters](https://learn.microsoft.com/en-us/powershell/module/microsoft.powershell.core/about/about_commonparameters) of PowerShell. These parameters are available on all cmdlets. The one we are interested in is the `-Verbose` parameter. When this parameter is set, the cmdlet will output more information about what it is doing. This can be very helpful when debugging issues. Let's run the `Import-D365ODataEntity` again with that parameter. Note that we do not supply a value to the parameter. It is a so-called switch parameter, which means that it is either present or not. If it is present, it is considered to be `$true`."
   ]
  },
  {
   "cell_type": "code",
   "execution_count": null,
   "metadata": {
    "dotnet_interactive": {
     "language": "pwsh"
    },
    "polyglot_notebook": {
     "kernelName": "pwsh"
    }
   },
   "outputs": [],
   "source": [
    "$createdEntity = Import-D365ODataEntity -EntityName $entityName -Payload $payloadJSON -Verbose"
   ]
  },
  {
   "cell_type": "markdown",
   "metadata": {},
   "source": [
    "This gives us a few more lines of VERBOSE output, but nothing really helpful. At least it looks like the cmdlet was able to send the request to the OData service and received an answer. But you may already have guessed that from the \"400 (Bad Request)\" part of the previous error.\n",
    "\n",
    "Ok, so `-Verbose` does not help here. Still, it is good to keep in mind, as it is an easy and fast way to get more information about what a cmdlet is doing.\n",
    "\n",
    "The next feature we will use is the `$error` variable. This variable is maintained by PowerShell in the background. It contains all errors that occurred during the execution of the script. You can access the last error by using `$error[0]`. This is very helpful when you want to know what went wrong in the last command. Let's see what the last error was."
   ]
  },
  {
   "cell_type": "code",
   "execution_count": 7,
   "metadata": {
    "dotnet_interactive": {
     "language": "pwsh"
    },
    "polyglot_notebook": {
     "kernelName": "pwsh"
    }
   },
   "outputs": [
    {
     "name": "stdout",
     "output_type": "stream",
     "text": [
      "\u001b[31;1mStop-PSFFunction: \u001b[31;1mSomething went wrong while importing data through the OData endpoint for the entity: SystemUsers\u001b[0m\n",
      "\n"
     ]
    }
   ],
   "source": [
    "$error[0]"
   ]
  },
  {
   "cell_type": "markdown",
   "metadata": {},
   "source": [
    "We already know that error. Let's try the one before that. By incrementing the number in the square brackets, you can go back in time and see previous errors."
   ]
  },
  {
   "cell_type": "code",
   "execution_count": 12,
   "metadata": {
    "dotnet_interactive": {
     "language": "pwsh"
    },
    "polyglot_notebook": {
     "kernelName": "pwsh"
    }
   },
   "outputs": [
    {
     "name": "stdout",
     "output_type": "stream",
     "text": [
      "\u001b[31;1mInvoke-RestMethod: \u001b[31;1m {   \"error\": {     \"code\": \"\",     \"message\": \"An error has occurred.\",     \"innererror\": {      \u001b[0m\n",
      "\u001b[31;1m\u001b[31;1m\"message\": \"Write failed for table row of type \\u0027SystemUserEntity\\u0027. Infolog: Error: Object\u001b[0m\n",
      "\u001b[31;1m\u001b[31;1mreference not set to an instance of an object..\",       \"type\":\u001b[0m\n",
      "\u001b[31;1m\u001b[31;1m\"Microsoft.Dynamics.Platform.Integration.Services.OData.AxODataWriteException\",       \"stacktrace\":\u001b[0m\n",
      "\u001b[31;1m\u001b[31;1m\"   at\u001b[0m\n",
      "\u001b[31;1m\u001b[31;1mMicrosoft.Dynamics.Platform.Integration.Services.OData.Update.UpdateProcessor.CreateEntity_Save(Chan\u001b[0m\n",
      "\u001b[31;1m\u001b[31;1mgeOperationContext context, ChangeInfo changeInfo)\\r\\n   at\u001b[0m\n",
      "\u001b[31;1m\u001b[31;1mMicrosoft.Dynamics.Platform.Integration.Services.OData.Update.ChangeInfo.ExecuteActionsInCompanyCont\u001b[0m\n",
      "\u001b[31;1m\u001b[31;1mext(IEnumerable\\u00601 actionList, ChangeOperationContext operationContext)\\r\\n   at\u001b[0m\n",
      "\u001b[31;1m\u001b[31;1mMicrosoft.Dynamics.Platform.Integration.Services.OData.Update.ChangeInfo.TrySave(ChangeOperationCont\u001b[0m\n",
      "\u001b[31;1m\u001b[31;1mext operationContext)\\r\\n   at\u001b[0m\n",
      "\u001b[31;1m\u001b[31;1mMicrosoft.Dynamics.Platform.Integration.Services.OData.Update.UpdateManager.SaveChanges()\\r\\n   at\u001b[0m\n",
      "\u001b[31;1m\u001b[31;1mMicrosoft.Dynamics.Platform.Integration.Services.OData.AxODataDelegatingHandler.\\u003CSaveChangesAsy\u001b[0m\n",
      "\u001b[31;1m\u001b[31;1mnc\\u003Ed__2.MoveNext()\"     }   } }\u001b[0m\n",
      "\n"
     ]
    }
   ],
   "source": [
    "$error[1]"
   ]
  },
  {
   "cell_type": "markdown",
   "metadata": {},
   "source": [
    "Unfortunately, while we can see from the stack trace that the error occurred in the Microsoft.Dynamics.Platform.Integration.Services.OData assembly, we still do not know what is wrong with the payload. The error message is not very helpful either. So what can we do now?\n",
    "\n",
    "The next steps in the analysis would include research on whether others encountered and solved this issue. It can also include using the entity in different ways, e.g. through the Excel AddIn or the Data Management workspace. However, these steps are out of scope for this notebook. \n",
    "\n",
    "While the error analysis did not provide a solution, it gives you an idea of how to approach such issues and what is involved in getting a Dynamics 365 Finance and Operations integration working. For the purpose of this notebook, we assume the analysis was done and provided us with a working payload.\n",
    "\n",
    "## Create a user\n",
    "\n",
    "To create a working payload, we need to provide values for two more fields:\n",
    "- `Alias`: despite the name, this field holds the user's email address; this is required to validate the user against the Azure Entra ID\n",
    "- `AccountType`: this needs to be \"ClaimsUser\"\n",
    "\n",
    "> ℹ️ **Note** The entity also has an \"Email\" field, which is not required. It is used when the system sends emails to or on behalf of the user.\n",
    "\n",
    "The following cell requests the email address from you and adds the values to the existing `$payloadObject`. It then again converts it into a JSON string."
   ]
  },
  {
   "cell_type": "code",
   "execution_count": null,
   "metadata": {
    "dotnet_interactive": {
     "language": "pwsh"
    },
    "polyglot_notebook": {
     "kernelName": "pwsh"
    }
   },
   "outputs": [],
   "source": [
    "$emailAddress = Read-Host -Prompt \"Enter the email address of the user\"\n",
    "$accountType = \"ClaimsUser\"\n",
    "\n",
    "$payloadObject.Alias = $emailAddress\n",
    "$payloadObject.AccountType = $accountType\n",
    "\n",
    "$payloadJSON = $payloadObject | ConvertTo-Json\n",
    "$payloadJSON"
   ]
  },
  {
   "cell_type": "markdown",
   "metadata": {},
   "source": [
    "And now we can finally run the `Import-D365ODataEntity` cmdlet and hopefully get a successfully created user."
   ]
  },
  {
   "cell_type": "code",
   "execution_count": null,
   "metadata": {
    "dotnet_interactive": {
     "language": "pwsh"
    },
    "polyglot_notebook": {
     "kernelName": "pwsh"
    }
   },
   "outputs": [],
   "source": [
    "$createdEntity = Import-D365ODataEntity -EntityName $entityName -Payload $payloadJSON\n",
    "$createdEntity"
   ]
  },
  {
   "cell_type": "markdown",
   "metadata": {},
   "source": [
    "You may notice that the user that was created is not enabled. This is because the `Enabled` field is not mandatory and is set to `False` by default. If you want to enable the user, you would need to add the `Enabled` field to the payload and set it to `True`. You can also set other fields such as the `Company` so that the user starts their session in the right legal entity. Feel free to experiment with the previous cells and the payload or create new cells to do so."
   ]
  },
  {
   "cell_type": "markdown",
   "metadata": {},
   "source": [
    "# Deleting users\n",
    "\n",
    "For the last part of this scenario notebook, we will look at deleting a record in an entity. This is done with the `Remove-D365ODataEntity` cmdlet. Like all previous cmdlets, it requires the `-EntityName` parameter, which we will set to `SystemUsers`. Like the `Update-D365ODataEntity` cmdlet, it requires the key of the entity to be provided. We already know the key of the `SystemUser` entity, which is the `UserID` field. We will use the same user id as before to delete the user.\n",
    "\n",
    "That is already all you ned to know. Look at the next cell to see how the user is deleted."
   ]
  },
  {
   "cell_type": "code",
   "execution_count": 30,
   "metadata": {
    "dotnet_interactive": {
     "language": "pwsh"
    },
    "polyglot_notebook": {
     "kernelName": "pwsh"
    }
   },
   "outputs": [],
   "source": [
    "Remove-D365ODataEntity -EntityName $entityName -Key \"UserID='$userId'\""
   ]
  },
  {
   "cell_type": "markdown",
   "metadata": {},
   "source": [
    "# Conclusion\n",
    "\n",
    "Congratulations on making it through this notebook. You have learned how to retrieve, create, update, and delete users in Dynamics 365 for Finance and Operations. You have also learned about OData entities, their metadata, and how to interact with them using d365fo.integrations. This is a great foundation for further exploration of the capabilities of d365fo.integrations and Dynamics 365 for Finance and Operations."
   ]
  }
 ],
 "metadata": {
  "kernelspec": {
   "display_name": ".NET (C#)",
   "language": "C#",
   "name": ".net-csharp"
  },
  "polyglot_notebook": {
   "kernelInfo": {
    "defaultKernelName": "csharp",
    "items": [
     {
      "aliases": [],
      "name": "csharp"
     },
     {
      "aliases": [],
      "languageName": "pwsh",
      "name": "pwsh"
     }
    ]
   }
  }
 },
 "nbformat": 4,
 "nbformat_minor": 2
}
